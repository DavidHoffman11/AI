{
 "cells": [
  {
   "cell_type": "markdown",
   "metadata": {},
   "source": [
    "# Search: Solving a Maze Using a Goal-based Agent\n",
    "\n",
    "## Instructions\n",
    "\n",
    "Total Points: Undergrads 100 / Graduate students 110\n",
    "\n",
    "Complete this notebook. Use the provided notebook cells and insert additional code and markdown cells as needed. Submit the completely rendered notebook as a PDF file. \n",
    "\n",
    "\n",
    "## Introduction\n",
    "\n",
    "The agent has a map of the maze it is in and the environment is assumed to be **deterministic, discrete, and known.** The agent must use the map to plan a path through the maze from the starting location $S$ to the goal location $G$.  This is a planing exercise for a goal-based agent, so you do not need to implement an environment, just use the map to search for a path. Once the plan is made, the agent in a deterministic environment (i.e., the transition function is deterministic with the outcome of each state/action pair fixed and no randomness) can just follow the path and does not need to care about the percepts.\n",
    "This is also called an **[open-loop system](https://en.wikipedia.org/wiki/Open-loop_controller).**\n",
    "The execution phase is trivial and we do not implement it in this exercise.\n",
    "\n",
    "Tree search algorithm implementations that you find online and used in general algorithms courses have often a different aim. These algorithms assume that you already have a tree in memory. We are interested in dynamically creating a search tree with the aim of finding a good/the best path from the root node to the goal state. Follow the pseudo code presented in the text book (and replicated in the slides) closely. Ideally, we would like to search only a small part of the maze, i.e., create a search tree with as few nodes as possible. \n",
    "\n",
    "Several mazes for this exercise are stored as text files. Here is the small example maze:"
   ]
  },
  {
   "cell_type": "code",
   "execution_count": 1,
   "metadata": {},
   "outputs": [
    {
     "name": "stdout",
     "output_type": "stream",
     "text": [
      "XXXXXXXXXXXXXXXXXXXXXX\n",
      "X XX        X X      X\n",
      "X    XXXXXX X XXXXXX X\n",
      "XXXXXX     S  X      X\n",
      "X    X XXXXXX XX XXXXX\n",
      "X XXXX X         X   X\n",
      "X        XXX XXX   X X\n",
      "XXXXXXXXXX    XXXXXX X\n",
      "XG         XX        X\n",
      "XXXXXXXXXXXXXXXXXXXXXX\n",
      "\n"
     ]
    }
   ],
   "source": [
    "with open(\"small_maze.txt\", \"r\") as f:\n",
    "    maze_str = f.read()\n",
    "print(maze_str)"
   ]
  },
  {
   "cell_type": "markdown",
   "metadata": {},
   "source": [
    "__Note:__ The mazes above contains cycles and therefore the state space may not form proper trees unless cycles are prevented. Therfore, you will need to deal with cycle detection in your code."
   ]
  },
  {
   "cell_type": "markdown",
   "metadata": {},
   "source": [
    "## Parsing and pretty printing the maze\n",
    "\n",
    "The maze can also be displayed in color using code in the module [maze_helper.py](maze_helper.py). The code parses the string representing the maze and converts it into a `numpy` 2d array which you can use in your implementation. Position are represented as a 2-tuple of the form `(row, col)`. "
   ]
  },
  {
   "cell_type": "code",
   "execution_count": 2,
   "metadata": {
    "tags": []
   },
   "outputs": [
    {
     "name": "stdout",
     "output_type": "stream",
     "text": [
      "Position(0,0): X\n",
      "Position(8,1): G\n"
     ]
    }
   ],
   "source": [
    "import maze_helper as mh\n",
    "\n",
    "maze = mh.parse_maze(maze_str)\n",
    "\n",
    "# look at a position in the maze by subsetting the 2d array\n",
    "print(\"Position(0,0):\", maze[0, 0])\n",
    "\n",
    "# there is also a helper function called `look(maze, pos)` available\n",
    "# which uses a 2-tuple for the position.\n",
    "print(\"Position(8,1):\", mh.look(maze, (8, 1)))"
   ]
  },
  {
   "cell_type": "markdown",
   "metadata": {},
   "source": [
    "A helper function to visualize the maze is also available."
   ]
  },
  {
   "cell_type": "code",
   "execution_count": null,
   "metadata": {},
   "outputs": [],
   "source": [
    "%matplotlib inline\n",
    "%config InlineBackend.figure_format = 'retina'\n",
    "# use higher resolution images in notebook\n",
    "\n",
    "mh.show_maze(maze)"
   ]
  },
  {
   "cell_type": "markdown",
   "metadata": {},
   "source": [
    "Find the position of the start and the goal using the helper function `find_pos()`"
   ]
  },
  {
   "cell_type": "code",
   "execution_count": null,
   "metadata": {},
   "outputs": [],
   "source": [
    "print(\"Start location:\", mh.find_pos(maze, what = \"S\"))\n",
    "print(\"Goal location:\", mh.find_pos(maze, what = \"G\"))"
   ]
  },
  {
   "cell_type": "markdown",
   "metadata": {},
   "source": [
    "Helper function documentation."
   ]
  },
  {
   "cell_type": "code",
   "execution_count": null,
   "metadata": {},
   "outputs": [],
   "source": [
    "help(mh)"
   ]
  },
  {
   "cell_type": "markdown",
   "metadata": {},
   "source": [
    "## Tree structure\n",
    "\n",
    "Here is an implementation of the basic node structure for the search algorithms (see Fig 3.7 on page 73). I have added a method that extracts the path from the root node to the current node. It can be used to get the path when the search is completed."
   ]
  },
  {
   "cell_type": "code",
   "execution_count": 3,
   "metadata": {},
   "outputs": [],
   "source": [
    "class Node:\n",
    "    def __init__(self, pos, parent, action, cost):\n",
    "        self.pos = tuple(pos)    # the state; positions are (row,col)\n",
    "        self.parent = parent     # reference to parent node. None means root node.\n",
    "        self.action = action     # action used in the transition function (root node has None)\n",
    "        self.cost = cost         # for uniform cost this is the depth. It is also g(n) for A* search\n",
    "\n",
    "    def __str__(self):\n",
    "        return f\"Node - pos = {self.pos}; action = {self.action}; cost = {self.cost}\"\n",
    "    \n",
    "    def get_path_from_root(self):\n",
    "        \"\"\"returns nodes on the path from the root to the current node.\"\"\"\n",
    "        node = self\n",
    "        path = [node]\n",
    "    \n",
    "        while not node.parent is None:\n",
    "            node = node.parent\n",
    "            path.append(node)\n",
    "        \n",
    "        path.reverse()\n",
    "        \n",
    "        return(path)"
   ]
  },
  {
   "cell_type": "markdown",
   "metadata": {},
   "source": [
    "If needed, then you can add more fields to the class like the heuristic value $h(n)$ or $f(n)$.\n",
    "\n",
    "Examples for how to create and use a tree and information on memory management can be found [here](../Python_Code_Examples/trees.ipynb)."
   ]
  },
  {
   "cell_type": "markdown",
   "metadata": {},
   "source": [
    "# Tasks\n",
    "\n",
    "The goal is to:\n",
    "\n",
    "1. Implement the following search algorithms for solving different mazes:\n",
    "\n",
    "    - Breadth-first search (BFS)\n",
    "    - Depth-first search (DFS)\n",
    "    - Greedy best-first search (GBFS)\n",
    "    - A* search\n",
    "\n",
    "2. Run each of the above algorithms on the \n",
    "    - [small maze](small_maze.txt), \n",
    "    - [medium maze](medium_maze.txt), \n",
    "    - [large maze](large_maze.txt), \n",
    "    - [open maze](open_maze.txt),\n",
    "    - [wall maze](wall_maze.txt),\n",
    "    - [loops maze](loops_maze.txt),\n",
    "    - [empty maze](empty_maze.txt), and\n",
    "    - [empty 2_maze](empty_2_maze.txt).\n",
    "    \n",
    "3. For each problem instance and each search algorithm, report the following in a table:\n",
    "\n",
    "    - The solution and its path cost\n",
    "    - Total number of nodes expanded\n",
    "    - Maximum tree depth\n",
    "    - Maximum size of the frontier\n",
    "\n",
    "4. Display each solution by marking every maze square (or state) visited and the squares on the final path.\n",
    "\n",
    "## General [10 Points]\n",
    "\n",
    "1. Make sure that you use the latest version of this notebook. Sync your forked repository and pull the latest revision. \n",
    "2. Your implementation can use libraries like math, numpy, scipy, but not libraries that implement inteligent agents or complete search algorithms. Try to keep the code simple! In this course, we want to learn about the algorithms and we often do not need to use object-oriented design.\n",
    "3. You notebook needs to be formated professionally. \n",
    "    - Add additional markdown blocks for your description, comments in the code, add tables and use mathplotlib to produce charts where appropriate\n",
    "    - Do not show debugging output or include an excessive amount of output.\n",
    "    - Check that your PDF file is readable. For example, long lines are cut off in the PDF file. You don't have control over page breaks, so do not worry about these.\n",
    "4. Document your code. Add a short discussion of how your implementation works and your design choices."
   ]
  },
  {
   "cell_type": "markdown",
   "metadata": {},
   "source": [
    "## Task 1: Defining the search problem and determining the problem size [10 Points]\n",
    "\n",
    "Define the components of the search problem:\n",
    "\n",
    "Use verbal descriptions, variables and equations as appropriate. \n",
    "\n",
    "* Initial state = The initial state is the starting position of the agent within the maze.  As noted above, this can be found and printed to the console with the simple print statement: print(\"Start location:\", mh.find_pos(maze, what = \"S\")).\n",
    "* Actions = Actions are defined as each individual movement taken by the agent as it moves from the initial state to the goal state.  Actions contain all of the different moves taken down incorrect paths as well as the final correct path and anything in between.  The sum of all actions represents the overall efficiency of each model.\n",
    "* Transition model = The transition model is the returned state of the agent and result of each individual action taken throughout the runtime of the algorithm.  This keeps track of all the movements and is critical in calculating the total action cost as well as the final path cost.  This will also be critical for the visualization of the different paths that the agent has taken.  \n",
    "* Goal state = The goal state is the final position that the agent is attempting to find.  Similarly to the initial state, the goal state can be printed using the print statement: print(\"Goal location:\", mh.find_pos(maze, what = \"G\")).\n",
    "* Path cost = The path cost represents the final path that the agent has returned as its solution.  Similarly to the total actions, we want this to be as low as possible and is a key factor in determining the successfulness of our model.  I want this value to be as close to the optimal path cost as possible."
   ]
  },
  {
   "cell_type": "markdown",
   "metadata": {},
   "source": [
    "Give some estimates for the problem size:\n",
    "\n",
    "Describe how you would determin these values for a given maze.\n",
    "\n",
    "* $n$: state space size = To determine the state space size for any given maze, I would first have to analyze the size of the maze and the different state possibilities for each square unit within the maze.  After doing this, I would multiply the height and width values of the size and raise them to the power of the number of possible states per square multiplied again by the height x width.\n",
    "* $d$: depth of the optimal solution = The depth of the optimal solution can be taken by finding the minimum y-value within the returned path and subtracting that from the maximum y-value in the returned path. \n",
    "* $m$: maximum depth of tree = The maximum depth of the tree can be returned by taking the depth of each path the tree reacehes throughout the algorithm using the same method as the depth of the optimal solution.  The only difference in this situation is you want to compare every possible depth and not just the depth of the optimal solution and everytime you reach a depth that is bigger than the current max depth, the current max depth variable is overwritten by the new max depth (this can be done simply using an if-statement).\n",
    "* $b$: maximum branching factor = The maximum branching factor can be calculated by incrementing the number of times the algorithm has to complete an expand operation and once the algorithm is completed and there are no more expand operations to complete, the maximum branching factor will be solved."
   ]
  },
  {
   "cell_type": "markdown",
   "metadata": {},
   "source": [
    "## Task 2: Uninformed search: Breadth-first and depth-first [40 Points]\n",
    "\n",
    "Implement these search strategies. Follow the pseudocode in the textbook/slides. You can use the tree structure shown above to extract the final path from your solution.\n",
    "\n",
    "__Notes:__\n",
    "* You can find maze solving implementations online that use the map to store information. While this is an effective idea for this two-dimensional navigation problem, it typically cannot be used for other search problems. Therefore, follow the textbook and only store information in the tree created during search, and use the `reached` and `frontier` data structures.\n",
    "* DFS can be implemented using the BFS tree search algorithm and simply changing the order in which the frontier is expanded (this is equivalent to best-first search with path length as the criterion to expand the next node). However, to take advantage of the significantly smaller memory footprint of DFS, you need to implement DFS in a different way without a `reached` data structure and by releasing the memory for nodes that are not needed anymore. \n",
    "* If DFS does not use a `reached` data structure, then its cycle checking abilities are limited. Remember, that DFS is incomplete if cycles cannot be prevented. You will see in your experiments that open spaces are a problem."
   ]
  },
  {
   "cell_type": "code",
   "execution_count": 32,
   "metadata": {},
   "outputs": [],
   "source": [
    "# Your code goes here\n",
    "\n",
    "actions = [\"Up\", \"Down\", \"Left\", \"Right\"]\n",
    "\n",
    "def expand(maze, node):\n",
    "    \n",
    "    global actions\n",
    "    expandArray = []\n",
    "    currPos = node.pos\n",
    "    \n",
    "    # checks each possible action and adds reachable nodes to array\n",
    "    for currAction in actions:\n",
    "        if(currAction == \"Up\"):\n",
    "            tempPos1 = (currPos[0],currPos[1]-1)\n",
    "            if((mh.look(maze,tempPos1) != 'X')):\n",
    "                addedNode = Node(tempPos1, node, \"Up\", node.cost+1)\n",
    "                expandArray.append(addedNode)\n",
    "        if(currAction == \"Down\"):\n",
    "            tempPos2 = (currPos[0],currPos[1]+1)\n",
    "            if((mh.look(maze,tempPos2) != 'X')):\n",
    "                addedNode = Node(tempPos2, node, \"Down\", node.cost+1)\n",
    "                expandArray.append(addedNode)\n",
    "        if(currAction == \"Left\"):\n",
    "            tempPos3 = (currPos[0]-1,currPos[1])\n",
    "            if((mh.look(maze,tempPos3) != 'X')):\n",
    "                addedNode = Node(tempPos3, node, \"Left\", node.cost+1)\n",
    "                expandArray.append(addedNode)\n",
    "        if(currAction == \"Right\"):\n",
    "            tempPos4 = (currPos[0]+1,currPos[1])\n",
    "            if(mh.look(maze,tempPos4) != 'X'):\n",
    "                addedNode = Node(tempPos4, node, \"Right\", node.cost+1)\n",
    "                expandArray.append(addedNode)\n",
    "    \n",
    "    return expandArray"
   ]
  },
  {
   "cell_type": "code",
   "execution_count": 12,
   "metadata": {},
   "outputs": [],
   "source": [
    "def checkArray(array, node):\n",
    "    \n",
    "    for element in array:\n",
    "        if(element.pos == node.pos):\n",
    "            return False\n",
    "    \n",
    "    return True"
   ]
  },
  {
   "cell_type": "code",
   "execution_count": 6,
   "metadata": {},
   "outputs": [],
   "source": [
    "import numpy as np\n",
    "\n",
    "def clearMaze(maze):\n",
    "        \n",
    "    for location in np.nditer(maze):\n",
    "        if(location == \".\"):\n",
    "            pos = mh.find_pos(maze,\".\")\n",
    "            maze[pos] = \" \"\n",
    "    \n",
    "    return maze"
   ]
  },
  {
   "cell_type": "code",
   "execution_count": 60,
   "metadata": {},
   "outputs": [],
   "source": [
    "from collections import deque\n",
    "\n",
    "def bfs(maze):\n",
    "    \n",
    "    maze = clearMaze(maze)\n",
    "    totalActions = 0\n",
    "    frontierQueue = deque()\n",
    "    reachedArray = []\n",
    "    # used to track algo statisitics: maxDepth, Max frontier size, Max nodes in memory, and number of nodes expanded\n",
    "    yCoordinates = []\n",
    "    maxFrontier = 0\n",
    "    nodesInMem = 0\n",
    "    nodesExpanded = 0\n",
    "    initialPos = mh.find_pos(maze, what = \"S\")\n",
    "    node = Node(pos = initialPos, parent = None, action = None, cost = 0) \n",
    "    \n",
    "    if(mh.look(maze, node.pos) == \"G\"):\n",
    "        temp = node.get_path_from_root()\n",
    "        finalPath = [element.pos for element in temp]\n",
    "        for element in finalPath:\n",
    "            y = element[1]\n",
    "            yCoordinates.append(y)\n",
    "        maxDepth = max(yCoordinates) - min(yCoordinates)\n",
    "        totalCost = sum([element.cost for element in temp])\n",
    "        # mh.show_maze(maze, finalPath)\n",
    "        print(\"Final path completed in\",temp[len(temp)-1].cost,\"steps.\")\n",
    "        print(\"Max depth reached by search is\",1,\"node.\")\n",
    "        print(\"Max frontier size is\",0,\"nodes.\")\n",
    "        print(\"Max number of nodes in memory is\",1,\"node.\")\n",
    "        print(\"Number of nodes expanded is\",0,\"nodes.\")\n",
    "        return \"Success\"\n",
    "    \n",
    "    frontierQueue.append(node)\n",
    "    reachedArray.append(node)\n",
    "    \n",
    "    # mh.show_maze(maze)\n",
    "    \n",
    "    while(len(frontierQueue) != 0):\n",
    "        totalActions += 1\n",
    "        tempFront = len(frontierQueue)\n",
    "        currNode = frontierQueue.popleft()\n",
    "        if(tempFront > maxFrontier):\n",
    "            maxFrontier = tempFront\n",
    "        for element in expand(maze,currNode):\n",
    "            s = element\n",
    "            currPath = s.get_path_from_root()\n",
    "            if(checkArray(reachedArray,element) == True):\n",
    "                nodesExpanded += 1\n",
    "            if(len(currPath) > nodesInMem):\n",
    "                nodesInMem = len(currPath)\n",
    "            if(mh.look(maze, s.pos) == \"G\"):\n",
    "                temp = s.get_path_from_root()\n",
    "                finalPath = [element.pos for element in temp]\n",
    "                for element in finalPath:\n",
    "                    y = element[1]\n",
    "                    yCoordinates.append(y)\n",
    "                maxDepth = max(yCoordinates) - min(yCoordinates)\n",
    "                totalCost = sum([element.cost for element in temp])\n",
    "                print(\"Final path completed in\",temp[len(temp)-1].cost,\"steps.\")\n",
    "                print(\"Max depth reached by search is\",str(maxDepth),\"nodes.\")\n",
    "                print(\"Max frontier size is\",str(maxFrontier),\"nodes.\")\n",
    "                print(\"Max number of nodes in memory is\",str(nodesInMem),\"nodes.\")\n",
    "                print(\"Number of nodes expanded is\",str(nodesExpanded),\"nodes.\")\n",
    "                return \"Success\" \n",
    "            if(checkArray(reachedArray, s) == True):\n",
    "                if(mh.look(maze,s.pos) != \"S\"):\n",
    "                    maze[s.pos] = \".\"\n",
    "                reachedArray.append(s)\n",
    "                frontierQueue.append(s)\n",
    "                # mh.show_maze(maze)\n",
    "    \n",
    "    return \"Failure\""
   ]
  },
  {
   "cell_type": "code",
   "execution_count": 61,
   "metadata": {},
   "outputs": [
    {
     "name": "stdout",
     "output_type": "stream",
     "text": [
      "Final path completed in 19 steps.\n",
      "Max depth reached by search is 12 nodes.\n",
      "Max frontier size is 8 nodes.\n",
      "Max number of nodes in memory is 20 nodes.\n",
      "Number of nodes expanded is 91 nodes.\n"
     ]
    },
    {
     "data": {
      "text/plain": [
       "'Success'"
      ]
     },
     "execution_count": 61,
     "metadata": {},
     "output_type": "execute_result"
    }
   ],
   "source": [
    "bfs(maze)"
   ]
  },
  {
   "cell_type": "code",
   "execution_count": 38,
   "metadata": {},
   "outputs": [],
   "source": [
    "def dfs(maze):\n",
    "    \n",
    "    maze = clearMaze(maze)\n",
    "    totalActions = 0\n",
    "    frontierQueue = deque()\n",
    "    # used to track algo statisitics: maxDepth, Max frontier size, Max nodes in memory, and number of nodes expanded\n",
    "    yCoordinates = []\n",
    "    maxFrontier = 0\n",
    "    nodesInMem = 0\n",
    "    nodesExpanded = 0\n",
    "    initialPos = mh.find_pos(maze, what = \"S\")\n",
    "    node = Node(pos = initialPos, parent = None, action = None, cost = 0) \n",
    "    \n",
    "    if(mh.look(maze, node.pos) == \"G\"):\n",
    "        temp = node.get_path_from_root()\n",
    "        finalPath = [element.pos for element in temp]\n",
    "        for element in finalPath:\n",
    "            y = element[1]\n",
    "            yCoordinates.append(y)\n",
    "        maxDepth = max(yCoordinates) - min(yCoordinates)\n",
    "        totalCost = sum([element.cost for element in temp])\n",
    "        # mh.show_maze(maze, finalPath)\n",
    "        print(\"Final path completed in\",temp[len(temp)-1].cost,\"steps.\")\n",
    "        print(\"Max depth reached by search is\",1,\"node.\")\n",
    "        print(\"Max frontier size is\",0,\"nodes.\")\n",
    "        print(\"Max number of nodes in memory is\",1,\"node.\")\n",
    "        print(\"Number of nodes expanded is\",0,\"nodes.\")\n",
    "        return \"Success\"\n",
    "    \n",
    "    frontierQueue.append(node)\n",
    "    \n",
    "    while(len(frontierQueue) != 0):\n",
    "        totalActions += 1\n",
    "        tempFront = len(frontierQueue)\n",
    "        currNode = frontierQueue.pop()\n",
    "        if(tempFront > maxFrontier):\n",
    "            maxFrontier = tempFront\n",
    "        for element in expand(maze,currNode):\n",
    "            s = element\n",
    "            currPath = s.get_path_from_root()\n",
    "            nodesExpanded += 1\n",
    "            if(len(currPath) > nodesInMem):\n",
    "                nodesInMem = len(currPath)\n",
    "            if(mh.look(maze, s.pos) == \"G\"):\n",
    "                temp = s.get_path_from_root()\n",
    "                finalPath = [element.pos for element in temp]\n",
    "                for element in finalPath:\n",
    "                    y = element[1]\n",
    "                    yCoordinates.append(y)\n",
    "                maxDepth = max(yCoordinates) - min(yCoordinates)\n",
    "                totalCost = sum([element.cost for element in temp])\n",
    "                # mh.show_maze(maze, finalPath)\n",
    "                print(\"Final path completed in\",temp[len(temp)-1].cost,\"steps.\")\n",
    "                print(\"Max depth reached by search is\",str(maxDepth),\"nodes.\")\n",
    "                print(\"Max frontier size is\",str(maxFrontier),\"nodes.\")\n",
    "                print(\"Max number of nodes in memory is\",str(nodesInMem),\"nodes.\")\n",
    "                print(\"Number of nodes expanded is\",str(nodesExpanded),\"nodes.\")\n",
    "                return \"Success\" \n",
    "            currPath = currNode.get_path_from_root()\n",
    "            if(checkArray(currPath, s) == True):\n",
    "                if(mh.look(maze,s.pos) != \"S\"):\n",
    "                    maze[s.pos] = \".\"\n",
    "                frontierQueue.append(s)\n",
    "                # mh.show_maze(maze)\n",
    "    \n",
    "    return \"Failure\""
   ]
  },
  {
   "cell_type": "code",
   "execution_count": 39,
   "metadata": {},
   "outputs": [
    {
     "name": "stdout",
     "output_type": "stream",
     "text": [
      "Final path completed in 37 steps.\n",
      "Max depth reached by search is 19 nodes.\n",
      "Max frontier size is 7 nodes.\n",
      "Max number of nodes in memory is 46 nodes.\n",
      "Number of nodes expanded is 158 nodes.\n"
     ]
    },
    {
     "data": {
      "text/plain": [
       "'Success'"
      ]
     },
     "execution_count": 39,
     "metadata": {},
     "output_type": "execute_result"
    }
   ],
   "source": [
    "dfs(maze)"
   ]
  },
  {
   "cell_type": "markdown",
   "metadata": {},
   "source": [
    "How does BFS and DFS deal with loops (cycles)?"
   ]
  },
  {
   "cell_type": "markdown",
   "metadata": {},
   "source": [
    "My BFS and DFS algorithms each deal with cycles in a very different way.  The BFS algorithm makes use of a \"reached\" datastructure which is nothing more than an array which contains all of the different nodes that my algorithm has already visited.  The algorithm will check this array and make sure that it does not contain each sequential node before that node is added to the \"frontier\" datastructure and actually visited by the algorithm.  This prevents the algorithm from repeatedly returning to any given node and forces it to explore all unexplored nodes searching for the goal state.  On the contrary, my DFS algorithm does not use a \"reached\" array in order to make use of its smaller memory footprint.  Instead, it uses the function get_path_from_root() function which is already built into the node structure detailed in the code at the top of this document.  This function returns a list of all of the nodes from the current node to the start position and I use it to make sure that my algorithm is not going to squares that it has already checked.  Similarly to the reached structure in the DFS algorithm, the BFS algorithm checks the list returned from the get_path_from_root() function before adding a new position to the frontier datastructure."
   ]
  },
  {
   "cell_type": "markdown",
   "metadata": {},
   "source": [
    "Are your implementations complete and optimal? Explain why. What is the time and space complexity of each of **your** implementations?"
   ]
  },
  {
   "cell_type": "markdown",
   "metadata": {},
   "source": [
    "Each of the implementations above are complete, but cannot be gauranteed to be optimal.  As both breadth-first and depth-first rather exhaustively search the environment until they reach the goal state, they can be gauranteed to find the goal state eventually if there is one and it is reachable.  However, each of these algorithms (in my current implementation) return the first path that they find and therefore cannot be gauranteed to find the most optimal solution every time.  Breadth first search has both a space and time complexity of O(b^d).  Similarly, depth-first search has a time complexity of O(b^m), but is more efficient than depth-first search in its space complexity with breadth-first search having a space complexity of O(bm)."
   ]
  },
  {
   "cell_type": "markdown",
   "metadata": {},
   "source": [
    "## Task 3: Informed search: Implement greedy best-first search and A* search  [20 Points]\n",
    "\n",
    "You can use the map to estimate the distance from your current position to the goal using the Manhattan distance (see https://en.wikipedia.org/wiki/Taxicab_geometry) as a heuristic function. Both algorithms are based on Best-First search which requires only a small change from the BFS algorithm you have already implemented (see textbook/slides). "
   ]
  },
  {
   "cell_type": "code",
   "execution_count": 42,
   "metadata": {},
   "outputs": [],
   "source": [
    "# Your code goes here\n",
    "def manhattanDist(currPos, goalPos):\n",
    "    solution = (abs(currPos[0]-goalPos[0]) + abs(currPos[1]-goalPos[1]))\n",
    "    return solution"
   ]
  },
  {
   "cell_type": "code",
   "execution_count": 48,
   "metadata": {},
   "outputs": [],
   "source": [
    "from queue import PriorityQueue\n",
    "import heapdict\n",
    "\n",
    "def gbfs(maze):\n",
    "    \n",
    "    maze = clearMaze(maze)\n",
    "    totalActions = 0\n",
    "    # used to track algo statisitics: maxDepth, Max frontier size, Max nodes in memory, and number of nodes expanded\n",
    "    yCoordinates = []\n",
    "    maxFrontier = 0\n",
    "    nodesInMem = 0\n",
    "    nodesExpanded = 0\n",
    "    initialPos = mh.find_pos(maze, what = \"S\")\n",
    "    goalPos = mh.find_pos(maze, what = \"G\")\n",
    "    node = Node(pos = initialPos, parent = None, action = None, cost = 0) \n",
    "    \n",
    "    currManDist = manhattanDist(initialPos,goalPos)\n",
    "    \n",
    "    # frontierArray stores the manhattan distance at each node\n",
    "    # heapdict stores nodes as tuples, first item is node, second is manhattan distance\n",
    "    frontierArray = heapdict.heapdict()\n",
    "    frontierArray[node] = currManDist\n",
    "    \n",
    "    reachedArray = []\n",
    "    reachedArray.append(node)\n",
    "    \n",
    "    if(mh.look(maze, node.pos) == \"G\"):\n",
    "        temp = node.get_path_from_root()\n",
    "        finalPath = [element.pos for element in temp]\n",
    "        for element in finalPath:\n",
    "            y = element[1]\n",
    "            yCoordinates.append(y)\n",
    "        maxDepth = max(yCoordinates) - min(yCoordinates)\n",
    "        totalCost = sum([element.cost for element in temp])\n",
    "        # mh.show_maze(maze, finalPath)\n",
    "        print(\"Final path completed in\",temp[len(temp)-1].cost,\"steps.\")\n",
    "        print(\"Max depth reached by search is\",1,\"node.\")\n",
    "        print(\"Max frontier size is\",0,\"nodes.\")\n",
    "        print(\"Max number of nodes in memory is\",1,\"node.\")\n",
    "        print(\"Number of nodes expanded is\",0,\"nodes.\")\n",
    "        return \"Success\"\n",
    "    \n",
    "    while(len(frontierArray) != 0):\n",
    "        totalActions += 1\n",
    "        tempFront = len(frontierArray)\n",
    "        temp = frontierArray.popitem()\n",
    "        if(tempFront > maxFrontier):\n",
    "            maxFrontier = tempFront\n",
    "        currNode = temp[0]\n",
    "        currManDist = temp[1]\n",
    "        for element in expand(maze, currNode):\n",
    "            currPath = element.get_path_from_root()\n",
    "            nodesExpanded += 1\n",
    "            if(len(currPath) > nodesInMem):\n",
    "                nodesInMem = len(currPath)\n",
    "            if(mh.look(maze, element.pos) == \"G\"):\n",
    "                temp = element.get_path_from_root()\n",
    "                finalPath = [element.pos for element in temp]\n",
    "                for element in finalPath:\n",
    "                    y = element[1]\n",
    "                    yCoordinates.append(y)\n",
    "                maxDepth = max(yCoordinates) - min(yCoordinates)\n",
    "                totalCost = sum([element.cost for element in temp])\n",
    "                # mh.show_maze(maze, finalPath)\n",
    "                print(\"Final path completed in\",temp[len(temp)-1].cost,\"steps.\")\n",
    "                print(\"Max depth reached by search is\",str(maxDepth),\"nodes.\")\n",
    "                print(\"Max frontier size is\",str(maxFrontier),\"nodes.\")\n",
    "                print(\"Max number of nodes in memory is\",str(nodesInMem),\"nodes.\")\n",
    "                print(\"Number of nodes expanded is\",str(nodesExpanded),\"nodes.\")\n",
    "                return \"Success\"\n",
    "            if(checkArray(reachedArray,element) == True):\n",
    "                if(mh.look(maze,element.pos) != \"S\"):\n",
    "                    maze[element.pos] = \".\"\n",
    "                currManDist = manhattanDist(element.pos,goalPos)\n",
    "                reachedArray.append(element)\n",
    "                frontierArray[element] = currManDist\n",
    "                # mh.show_maze(maze)\n",
    "                \n",
    "    return \"Failure\""
   ]
  },
  {
   "cell_type": "code",
   "execution_count": 49,
   "metadata": {},
   "outputs": [
    {
     "name": "stdout",
     "output_type": "stream",
     "text": [
      "Final path completed in 29 steps.\n",
      "Max depth reached by search is 11 nodes.\n",
      "Max frontier size is 5 nodes.\n",
      "Max number of nodes in memory is 30 nodes.\n",
      "Number of nodes expanded is 80 nodes.\n"
     ]
    },
    {
     "data": {
      "text/plain": [
       "'Success'"
      ]
     },
     "execution_count": 49,
     "metadata": {},
     "output_type": "execute_result"
    }
   ],
   "source": [
    "gbfs(maze)"
   ]
  },
  {
   "cell_type": "code",
   "execution_count": 46,
   "metadata": {},
   "outputs": [],
   "source": [
    "def aStar(maze):\n",
    "    \n",
    "    maze = clearMaze(maze)\n",
    "    totalActions = 0\n",
    "    # used to track algo statisitics: maxDepth, Max frontier size, Max nodes in memory, and number of nodes expanded\n",
    "    yCoordinates = []\n",
    "    maxFrontier = 0\n",
    "    nodesInMem = 0\n",
    "    nodesExpanded = 0\n",
    "    initialPos = mh.find_pos(maze, what = \"S\")\n",
    "    goalPos = mh.find_pos(maze, what = \"G\")\n",
    "    node = Node(pos = initialPos, parent = None, action = None, cost = 0) \n",
    "    \n",
    "    currCost = manhattanDist(initialPos,goalPos) + node.cost\n",
    "    \n",
    "    # frontierArray stores the manhattan distance at each node\n",
    "    # heapdict stores nodes as tuples, first item is node, second is heuristic cost\n",
    "    frontierArray = heapdict.heapdict()\n",
    "    frontierArray[node] = currCost\n",
    "    \n",
    "    reachedArray = []\n",
    "    reachedArray.append(node)\n",
    "    \n",
    "    if(mh.look(maze, node.pos) == \"G\"):\n",
    "        temp = node.get_path_from_root()\n",
    "        finalPath = [element.pos for element in temp]\n",
    "        for element in finalPath:\n",
    "            y = element[1]\n",
    "            yCoordinates.append(y)\n",
    "        maxDepth = max(yCoordinates) - min(yCoordinates)\n",
    "        totalCost = sum([element.cost for element in temp])\n",
    "        # mh.show_maze(maze, finalPath)\n",
    "        print(\"Final path completed in\",temp[len(temp)-1].cost,\"steps.\")\n",
    "        print(\"Max depth reached by search is\",1,\"node.\")\n",
    "        print(\"Max frontier size is\",0,\"nodes.\")\n",
    "        print(\"Max number of nodes in memory is\",1,\"node.\")\n",
    "        print(\"Number of nodes expanded is\",0,\"nodes.\")\n",
    "        return \"Success\"\n",
    "    \n",
    "    while(len(frontierArray) != 0):\n",
    "        totalActions += 1\n",
    "        tempFront = len(frontierArray)\n",
    "        temp = frontierArray.popitem()\n",
    "        if(tempFront > maxFrontier):\n",
    "            maxFrontier = tempFront\n",
    "        currNode = temp[0]\n",
    "        currCost = temp[1]\n",
    "        for element in expand(maze, currNode):\n",
    "            currPath = element.get_path_from_root()\n",
    "            nodesExpanded += 1\n",
    "            if(len(currPath) > nodesInMem):\n",
    "                nodesInMem = len(currPath)\n",
    "            if(mh.look(maze, element.pos) == \"G\"):\n",
    "                temp = element.get_path_from_root()\n",
    "                finalPath = [element.pos for element in temp]\n",
    "                for element in finalPath:\n",
    "                    y = element[1]\n",
    "                    yCoordinates.append(y)\n",
    "                maxDepth = max(yCoordinates) - min(yCoordinates)\n",
    "                totalCost = sum([element.cost for element in temp])\n",
    "                # mh.show_maze(maze, finalPath)\n",
    "                print(\"Final path completed in\",temp[len(temp)-1].cost,\"steps.\")\n",
    "                print(\"Max depth reached by search is\",str(maxDepth),\"nodes.\")\n",
    "                print(\"Max frontier size is\",str(maxFrontier),\"nodes.\")\n",
    "                print(\"Max number of nodes in memory is\",str(nodesInMem),\"nodes.\")\n",
    "                print(\"Number of nodes expanded is\",str(nodesExpanded),\"nodes.\")\n",
    "                return \"Success\"\n",
    "                return \"Success\"\n",
    "            if(checkArray(reachedArray,element) == True):\n",
    "                if(mh.look(maze,element.pos) != \"S\"):\n",
    "                    maze[element.pos] = \".\"\n",
    "                currCost = manhattanDist(element.pos,goalPos) + element.cost\n",
    "                reachedArray.append(element)\n",
    "                frontierArray[element] = currCost\n",
    "                # mh.show_maze(maze)\n",
    "                \n",
    "    return \"Failure\""
   ]
  },
  {
   "cell_type": "code",
   "execution_count": 47,
   "metadata": {},
   "outputs": [
    {
     "name": "stdout",
     "output_type": "stream",
     "text": [
      "Final path completed in 19 steps.\n",
      "Max depth reached by search is 12 nodes.\n",
      "Max frontier size is 8 nodes.\n",
      "Max number of nodes in memory is 20 nodes.\n",
      "Number of nodes expanded is 101 nodes.\n"
     ]
    },
    {
     "data": {
      "text/plain": [
       "'Success'"
      ]
     },
     "execution_count": 47,
     "metadata": {},
     "output_type": "execute_result"
    }
   ],
   "source": [
    "aStar(maze)"
   ]
  },
  {
   "cell_type": "markdown",
   "metadata": {},
   "source": [
    "Are your implementations complete and optimal? What is the time and space complexity?"
   ]
  },
  {
   "cell_type": "markdown",
   "metadata": {},
   "source": [
    "Both greedy best-first search and AStar search are complete and will ultimately find the goal state no matter what.  Greedy best-first search does not always return the optimal solution; however, AStar does making it the most successful of the four algorithm implementations that I created.  Greedy best-first search has a worst case time complexity of O(b^m) and a best case complexity of O(bm) with the space complexity being the same as the time complexity.  On the other hand, AStar search has a worst case time complexity of O(b^m) which is similar to greedy best-first search and also has the same space complexity as its time complexity"
   ]
  },
  {
   "cell_type": "markdown",
   "metadata": {},
   "source": [
    "## Task 4: Comparison and discussion [20 Points] \n",
    "\n",
    "Run experiments to compare the implemented algorithms.\n",
    "\n",
    "How to deal with issues:\n",
    "\n",
    "* Your implementation returns unexpected results: Try to debug and fix the code. Visualizing the maze, the current path and the frontier after every step is very helpful. If the code still does not work, then mark the result with an asterisk (*) and describe the issue below the table.\n",
    "\n",
    "* Your implementation cannot consistently solve a specific maze and ends up in an infinite loop:\n",
    "    Debug. If it is a shortcoming of the algorithm/implementation, then put \"N/A*\" in the results table and describe why this is happening."
   ]
  },
  {
   "cell_type": "code",
   "execution_count": 50,
   "metadata": {},
   "outputs": [
    {
     "name": "stdout",
     "output_type": "stream",
     "text": [
      "DFS:\n",
      "Final path completed in 234 steps.\n",
      "Max depth reached by search is 33 nodes.\n",
      "Max frontier size is 13 nodes.\n",
      "Max number of nodes in memory is 235 nodes.\n",
      "Number of nodes expanded is 553 nodes.\n",
      "BFS:\n",
      "Final path completed in 68 steps.\n",
      "Max depth reached by search is 33 nodes.\n",
      "Max frontier size is 8 nodes.\n",
      "Max number of nodes in memory is 69 nodes.\n",
      "Number of nodes expanded is 269 nodes.\n",
      "GBFS:\n",
      "Final path completed in 74 steps.\n",
      "Max depth reached by search is 33 nodes.\n",
      "Max frontier size is 4 nodes.\n",
      "Max number of nodes in memory is 75 nodes.\n",
      "Number of nodes expanded is 159 nodes.\n",
      "A*:\n",
      "Final path completed in 68 steps.\n",
      "Max depth reached by search is 33 nodes.\n",
      "Max frontier size is 8 nodes.\n",
      "Max number of nodes in memory is 69 nodes.\n",
      "Number of nodes expanded is 452 nodes.\n"
     ]
    },
    {
     "data": {
      "text/plain": [
       "'Success'"
      ]
     },
     "execution_count": 50,
     "metadata": {},
     "output_type": "execute_result"
    }
   ],
   "source": [
    "# Add code\n",
    "# Medium Maze\n",
    "\n",
    "with open(\"medium_maze.txt\", \"r\") as f:\n",
    "    maze_str = f.read()\n",
    "    \n",
    "mMaze = mh.parse_maze(maze_str)\n",
    "\n",
    "print(\"DFS:\")\n",
    "dfs(mMaze)\n",
    "print(\"BFS:\")\n",
    "bfs(mMaze)\n",
    "print(\"GBFS:\")\n",
    "gbfs(mMaze)\n",
    "print(\"A*:\")\n",
    "aStar(mMaze)"
   ]
  },
  {
   "cell_type": "code",
   "execution_count": 51,
   "metadata": {},
   "outputs": [
    {
     "name": "stdout",
     "output_type": "stream",
     "text": [
      "DFS:\n",
      "Final path completed in 210 steps.\n",
      "Max depth reached by search is 34 nodes.\n",
      "Max frontier size is 32 nodes.\n",
      "Max number of nodes in memory is 211 nodes.\n",
      "Number of nodes expanded is 890 nodes.\n",
      "BFS:\n",
      "Final path completed in 210 steps.\n",
      "Max depth reached by search is 34 nodes.\n",
      "Max frontier size is 8 nodes.\n",
      "Max number of nodes in memory is 211 nodes.\n",
      "Number of nodes expanded is 622 nodes.\n",
      "GBFS:\n",
      "Final path completed in 210 steps.\n",
      "Max depth reached by search is 34 nodes.\n",
      "Max frontier size is 21 nodes.\n",
      "Max number of nodes in memory is 211 nodes.\n",
      "Number of nodes expanded is 951 nodes.\n",
      "A*:\n",
      "Final path completed in 210 steps.\n",
      "Max depth reached by search is 34 nodes.\n",
      "Max frontier size is 12 nodes.\n",
      "Max number of nodes in memory is 211 nodes.\n",
      "Number of nodes expanded is 1094 nodes.\n"
     ]
    },
    {
     "data": {
      "text/plain": [
       "'Success'"
      ]
     },
     "execution_count": 51,
     "metadata": {},
     "output_type": "execute_result"
    }
   ],
   "source": [
    "# Large Maze\n",
    "\n",
    "with open(\"large_maze.txt\", \"r\") as f:\n",
    "    maze_str = f.read()\n",
    "    \n",
    "lMaze = mh.parse_maze(maze_str)\n",
    "\n",
    "print(\"DFS:\")\n",
    "dfs(lMaze)\n",
    "print(\"BFS:\")\n",
    "bfs(lMaze)\n",
    "print(\"GBFS:\")\n",
    "gbfs(lMaze)\n",
    "print(\"A*:\")\n",
    "aStar(lMaze)"
   ]
  },
  {
   "cell_type": "code",
   "execution_count": 52,
   "metadata": {},
   "outputs": [
    {
     "name": "stdout",
     "output_type": "stream",
     "text": [
      "DFS:\n",
      "Final path completed in 41 steps.\n",
      "Max depth reached by search is 7 nodes.\n",
      "Max frontier size is 17 nodes.\n",
      "Max number of nodes in memory is 42 nodes.\n",
      "Number of nodes expanded is 129 nodes.\n",
      "BFS:\n",
      "Final path completed in 23 steps.\n",
      "Max depth reached by search is 7 nodes.\n",
      "Max frontier size is 7 nodes.\n",
      "Max number of nodes in memory is 24 nodes.\n",
      "Number of nodes expanded is 71 nodes.\n",
      "GBFS:\n",
      "Final path completed in 35 steps.\n",
      "Max depth reached by search is 7 nodes.\n",
      "Max frontier size is 9 nodes.\n",
      "Max number of nodes in memory is 36 nodes.\n",
      "Number of nodes expanded is 135 nodes.\n",
      "A*:\n",
      "Final path completed in 23 steps.\n",
      "Max depth reached by search is 7 nodes.\n",
      "Max frontier size is 9 nodes.\n",
      "Max number of nodes in memory is 24 nodes.\n",
      "Number of nodes expanded is 135 nodes.\n"
     ]
    },
    {
     "data": {
      "text/plain": [
       "'Success'"
      ]
     },
     "execution_count": 52,
     "metadata": {},
     "output_type": "execute_result"
    }
   ],
   "source": [
    "# Loops Maze\n",
    "\n",
    "with open(\"loops_maze.txt\", \"r\") as f:\n",
    "    maze_str = f.read()\n",
    "    \n",
    "lmaze = mh.parse_maze(maze_str)\n",
    "\n",
    "print(\"DFS:\")\n",
    "dfs(lmaze)\n",
    "print(\"BFS:\")\n",
    "bfs(lmaze)\n",
    "print(\"GBFS:\")\n",
    "gbfs(lmaze)\n",
    "print(\"A*:\")\n",
    "aStar(lmaze)"
   ]
  },
  {
   "cell_type": "code",
   "execution_count": 54,
   "metadata": {},
   "outputs": [
    {
     "name": "stdout",
     "output_type": "stream",
     "text": [
      "DFS: N/A\n",
      "BFS:\n",
      "Final path completed in 54 steps.\n",
      "Max depth reached by search is 34 nodes.\n",
      "Max frontier size is 23 nodes.\n",
      "Max number of nodes in memory is 55 nodes.\n",
      "Number of nodes expanded is 683 nodes.\n",
      "GBFS:\n",
      "Final path completed in 68 steps.\n",
      "Max depth reached by search is 34 nodes.\n",
      "Max frontier size is 67 nodes.\n",
      "Max number of nodes in memory is 69 nodes.\n",
      "Number of nodes expanded is 283 nodes.\n",
      "A*:\n",
      "Final path completed in 54 steps.\n",
      "Max depth reached by search is 34 nodes.\n",
      "Max frontier size is 113 nodes.\n",
      "Max number of nodes in memory is 55 nodes.\n",
      "Number of nodes expanded is 454 nodes.\n"
     ]
    },
    {
     "data": {
      "text/plain": [
       "'Success'"
      ]
     },
     "execution_count": 54,
     "metadata": {},
     "output_type": "execute_result"
    }
   ],
   "source": [
    "# Open Maze\n",
    "\n",
    "with open(\"open_maze.txt\", \"r\") as f:\n",
    "    maze_str = f.read()\n",
    "    \n",
    "oMaze = mh.parse_maze(maze_str)\n",
    "\n",
    "print(\"DFS: N/A\")\n",
    "# dfs(oMaze)\n",
    "print(\"BFS:\")\n",
    "bfs(oMaze)\n",
    "print(\"GBFS:\")\n",
    "gbfs(oMaze)\n",
    "print(\"A*:\")\n",
    "aStar(oMaze)"
   ]
  },
  {
   "cell_type": "code",
   "execution_count": 55,
   "metadata": {},
   "outputs": [
    {
     "name": "stdout",
     "output_type": "stream",
     "text": [
      "DFS:\n",
      "Final path completed in 26 steps.\n",
      "Max depth reached by search is 7 nodes.\n",
      "Max frontier size is 30 nodes.\n",
      "Max number of nodes in memory is 27 nodes.\n",
      "Number of nodes expanded is 89 nodes.\n",
      "BFS:\n",
      "Final path completed in 14 steps.\n",
      "Max depth reached by search is 7 nodes.\n",
      "Max frontier size is 11 nodes.\n",
      "Max number of nodes in memory is 15 nodes.\n",
      "Number of nodes expanded is 88 nodes.\n",
      "GBFS:\n",
      "Final path completed in 14 steps.\n",
      "Max depth reached by search is 7 nodes.\n",
      "Max frontier size is 27 nodes.\n",
      "Max number of nodes in memory is 15 nodes.\n",
      "Number of nodes expanded is 54 nodes.\n",
      "A*:\n",
      "Final path completed in 14 steps.\n",
      "Max depth reached by search is 7 nodes.\n",
      "Max frontier size is 27 nodes.\n",
      "Max number of nodes in memory is 15 nodes.\n",
      "Number of nodes expanded is 54 nodes.\n"
     ]
    },
    {
     "data": {
      "text/plain": [
       "'Success'"
      ]
     },
     "execution_count": 55,
     "metadata": {},
     "output_type": "execute_result"
    }
   ],
   "source": [
    "# Wall Maze\n",
    "\n",
    "with open(\"wall_maze.txt\", \"r\") as f:\n",
    "    maze_str = f.read()\n",
    "    \n",
    "wMaze = mh.parse_maze(maze_str)\n",
    "\n",
    "print(\"DFS:\")\n",
    "dfs(wMaze)\n",
    "print(\"BFS:\")\n",
    "bfs(wMaze)\n",
    "print(\"GBFS:\")\n",
    "gbfs(wMaze)\n",
    "print(\"A*:\")\n",
    "aStar(wMaze)"
   ]
  },
  {
   "cell_type": "code",
   "execution_count": 56,
   "metadata": {},
   "outputs": [
    {
     "name": "stdout",
     "output_type": "stream",
     "text": [
      "DFS:\n",
      "Final path completed in 54 steps.\n",
      "Max depth reached by search is 7 nodes.\n",
      "Max frontier size is 59 nodes.\n",
      "Max number of nodes in memory is 55 nodes.\n",
      "Number of nodes expanded is 202 nodes.\n",
      "BFS:\n",
      "Final path completed in 14 steps.\n",
      "Max depth reached by search is 7 nodes.\n",
      "Max frontier size is 12 nodes.\n",
      "Max number of nodes in memory is 15 nodes.\n",
      "Number of nodes expanded is 95 nodes.\n",
      "GBFS:\n",
      "Final path completed in 14 steps.\n",
      "Max depth reached by search is 7 nodes.\n",
      "Max frontier size is 27 nodes.\n",
      "Max number of nodes in memory is 15 nodes.\n",
      "Number of nodes expanded is 54 nodes.\n",
      "A*:\n",
      "Final path completed in 14 steps.\n",
      "Max depth reached by search is 7 nodes.\n",
      "Max frontier size is 27 nodes.\n",
      "Max number of nodes in memory is 15 nodes.\n",
      "Number of nodes expanded is 54 nodes.\n"
     ]
    },
    {
     "data": {
      "text/plain": [
       "'Success'"
      ]
     },
     "execution_count": 56,
     "metadata": {},
     "output_type": "execute_result"
    }
   ],
   "source": [
    "# Empty Maze\n",
    "\n",
    "with open(\"empty_maze.txt\", \"r\") as f:\n",
    "    maze_str = f.read()\n",
    "    \n",
    "eMaze = mh.parse_maze(maze_str)\n",
    "\n",
    "print(\"DFS:\")\n",
    "dfs(eMaze)\n",
    "print(\"BFS:\")\n",
    "bfs(eMaze)\n",
    "print(\"GBFS:\")\n",
    "gbfs(eMaze)\n",
    "print(\"A*:\")\n",
    "aStar(eMaze)"
   ]
  },
  {
   "cell_type": "code",
   "execution_count": 57,
   "metadata": {},
   "outputs": [
    {
     "name": "stdout",
     "output_type": "stream",
     "text": [
      "DFS:\n",
      "Final path completed in 72 steps.\n",
      "Max depth reached by search is 8 nodes.\n",
      "Max frontier size is 65 nodes.\n",
      "Max number of nodes in memory is 73 nodes.\n",
      "Number of nodes expanded is 260 nodes.\n",
      "BFS:\n",
      "Final path completed in 14 steps.\n",
      "Max depth reached by search is 7 nodes.\n",
      "Max frontier size is 12 nodes.\n",
      "Max number of nodes in memory is 15 nodes.\n",
      "Number of nodes expanded is 95 nodes.\n",
      "GBFS:\n",
      "Final path completed in 14 steps.\n",
      "Max depth reached by search is 7 nodes.\n",
      "Max frontier size is 27 nodes.\n",
      "Max number of nodes in memory is 15 nodes.\n",
      "Number of nodes expanded is 53 nodes.\n",
      "A*:\n",
      "Final path completed in 14 steps.\n",
      "Max depth reached by search is 7 nodes.\n",
      "Max frontier size is 27 nodes.\n",
      "Max number of nodes in memory is 15 nodes.\n",
      "Number of nodes expanded is 53 nodes.\n"
     ]
    },
    {
     "data": {
      "text/plain": [
       "'Success'"
      ]
     },
     "execution_count": 57,
     "metadata": {},
     "output_type": "execute_result"
    }
   ],
   "source": [
    "# Empty Maze 2\n",
    "\n",
    "with open(\"empty_2_maze.txt\", \"r\") as f:\n",
    "    maze_str = f.read()\n",
    "    \n",
    "e2Maze = mh.parse_maze(maze_str)\n",
    "\n",
    "print(\"DFS:\")\n",
    "dfs(e2Maze)\n",
    "print(\"BFS:\")\n",
    "bfs(e2Maze)\n",
    "print(\"GBFS:\")\n",
    "gbfs(e2Maze)\n",
    "print(\"A*:\")\n",
    "aStar(e2Maze)"
   ]
  },
  {
   "cell_type": "markdown",
   "metadata": {},
   "source": [
    "__Small maze__\n",
    "\n",
    "| algorithm | path cost | # of nodes expanded | max tree depth | max # of nodes in memory | max frontier size |\n",
    "|-----------|-----------|---------------------|----------------|--------------------------|-------------------|\n",
    "| BFS       |     19    |         91          |        12      |            20            |        8          |\n",
    "| DFS       |     37    |        158          |        19      |            46            |        7          |\n",
    "| GBS       |     29    |         80          |        11      |            30            |        5          |\n",
    "| A*        |     19    |        101          |        12      |            20            |        8          |\n",
    "\n",
    "__Medium Maze__\n",
    "\n",
    "| algorithm | path cost | # of nodes expanded | max tree depth | max # of nodes in memory | max frontier size |\n",
    "|-----------|-----------|---------------------|----------------|--------------------------|-------------------|\n",
    "| BFS       |     68   |         269         |        33      |            69           |        8         |\n",
    "| DFS       |     234    |        553          |        33      |            235            |        13          |\n",
    "| GBS       |     74    |         159          |        33      |            75            |        4          |\n",
    "| A*        |     68    |        452          |        33      |            69            |        8          |\n",
    "\n",
    "__Large Maze__\n",
    "\n",
    "| algorithm | path cost | # of nodes expanded | max tree depth | max # of nodes in memory | max frontier size |\n",
    "|-----------|-----------|---------------------|----------------|--------------------------|-------------------|\n",
    "| BFS       |     210    |         622          |        34      |            211            |        8          |\n",
    "| DFS       |     210    |        890          |        34      |            211           |        32          |\n",
    "| GBS       |     210    |         951          |        34      |            211            |        21          |\n",
    "| A*        |     210    |        1094          |        34      |            211            |        12          |\n",
    "\n",
    "__Loops Maze__\n",
    "\n",
    "| algorithm | path cost | # of nodes expanded | max tree depth | max # of nodes in memory | max frontier size |\n",
    "|-----------|-----------|---------------------|----------------|--------------------------|-------------------|\n",
    "| BFS       |     23    |         71          |        7      |            24            |        7          |\n",
    "| DFS       |     41    |        129          |        7      |            42            |        17          |\n",
    "| GBS       |     35    |         135          |        7      |            36            |        9          |\n",
    "| A*        |     23    |        135          |        7      |            24            |        9          |\n",
    "\n",
    "\n",
    "__Open_Maze__\n",
    "\n",
    "| algorithm | path cost | # of nodes expanded | max tree depth | max # of nodes in memory | max frontier size |\n",
    "|-----------|-----------|---------------------|----------------|--------------------------|-------------------|\n",
    "| BFS       |     54    |         683          |        34      |            55            |        23          |\n",
    "| DFS       |     N/A    |        N/A          |        N/A      |            N/A            |        N/A          |\n",
    "| GBS       |     68    |         283          |        34      |            69            |        67          |\n",
    "| A*        |     54    |        454          |        34      |            55            |        113          |\n",
    "\n",
    "__Wall Maze__\n",
    "\n",
    "| algorithm | path cost | # of nodes expanded | max tree depth | max # of nodes in memory | max frontier size |\n",
    "|-----------|-----------|---------------------|----------------|--------------------------|-------------------|\n",
    "| BFS       |     14    |         88          |        7      |            15            |        11          |\n",
    "| DFS       |     26    |        89          |        7      |            27           |        30          |\n",
    "| GBS       |     14    |         54          |        7      |            15            |        27         |\n",
    "| A*        |     14    |        54          |        7      |            15           |        27       |\n",
    "\n",
    "\n",
    "__Empty Maze__\n",
    "\n",
    "| algorithm | path cost | # of nodes expanded | max tree depth | max # of nodes in memory | max frontier size |\n",
    "|-----------|-----------|---------------------|----------------|--------------------------|-------------------|\n",
    "| BFS       |     14    |         95          |        7      |            15            |        12          |\n",
    "| DFS       |     54    |        202          |        7      |            55            |        59         |\n",
    "| GBS       |     14    |         54          |        7      |            15            |        27         |\n",
    "| A*        |     14    |        54          |        7      |            15            |        27        |\n",
    "\n",
    "__Empty Maze 2__\n",
    "\n",
    "| algorithm | path cost | # of nodes expanded | max tree depth | max # of nodes in memory | max frontier size |\n",
    "|-----------|-----------|---------------------|----------------|--------------------------|-------------------|\n",
    "| BFS       |     14    |         95          |        7      |            15            |        12          |\n",
    "| DFS       |     72    |        260          |        8      |            73            |        65         |\n",
    "| GBS       |     14    |         53          |        7      |            15            |        27         |\n",
    "| A*        |     14    |        53          |        7      |            15            |        27        |"
   ]
  },
  {
   "cell_type": "markdown",
   "metadata": {},
   "source": [
    "Present the results as using charts (see [Python Code Examples/charts and tables](../Python_Code_Examples/charts_and_tables.ipynb)). "
   ]
  },
  {
   "cell_type": "markdown",
   "metadata": {},
   "source": [
    "Discuss the most important lessons you have learned from implementing the different search strategies. "
   ]
  },
  {
   "cell_type": "markdown",
   "metadata": {},
   "source": [
    "Through the implementation of breadth-first, depth-first, greedy best-first, and A* search, as well as their application towards solving the eight different mazes above, I have learned a great deal about these different search strategies.  First, I was amazed to find that the implementation of each of these algorithms, despite their fundamental differences, were incredibly similar except for a few key differences that gave each algorithm its unique characteristics.  In addition to the many similarities in implementation, I was also surprised to learn how similar the performance of breadth-first search was to A* search on many of the different mazes.  I had always thought that A* was a far superior searching strategy, but on many of the different maze environments this was not necessarily the case.  On the other hand, I was also very surprised to see how poorly depth-first search performed with it constantly ranking amongst the worst performing algorithms on most of the mazes and not even being able to reach a solution on the open maze.  I believe that the main reason depth-first search struggled so much with the open maze was a problem with my expand function as it did not have any logic to prevent the returned nodes from being out of the bounds of the maze allowing depth-first search to expand infinitely downward far outside the bounds of the maze.  I tried to fix this in numerous ways and assumed the fix would be relatively easy to implement; however, I could not find a solution that didn't adversely effect the rest of the algorithms and ultimately decided to give up on that."
   ]
  },
  {
   "cell_type": "markdown",
   "metadata": {},
   "source": [
    "## Graduate student advanced task: Multiple goals [10 Points]\n",
    "\n",
    "__Undergraduate students:__ This is a bonus task you can attempt if you like [+5 Bonus Points].\n",
    "\n",
    "Create a few mazes with multiple goals by adding one or two more goals to the medium size maze.\n",
    "Solve the maze with your implementations for DFS, BFS, and implement in addition IDS (iterative deepening search using DFS). \n",
    "\n",
    "Run experiments to show which implementations find the optimal solution and which do not. Discuss why that is the case."
   ]
  },
  {
   "cell_type": "code",
   "execution_count": null,
   "metadata": {},
   "outputs": [],
   "source": [
    "# Your code/answer goes here"
   ]
  },
  {
   "cell_type": "markdown",
   "metadata": {},
   "source": [
    "## More advanced tasks to think about\n",
    "\n",
    "Instead of defining each square as a state, use only intersections as states. Now the storage requirement is reduced, but the path length between two intersections can be different. If we use total path length measured as the number of squares as path cost, how can we make sure that BFS and iterative deepening search is optimal? Change the code to do so."
   ]
  },
  {
   "cell_type": "code",
   "execution_count": null,
   "metadata": {},
   "outputs": [],
   "source": [
    "# Your code/answer goes here"
   ]
  },
  {
   "cell_type": "markdown",
   "metadata": {},
   "source": [
    "Modify your A* search to add weights (see text book) and explore how different weights influence the result."
   ]
  },
  {
   "cell_type": "code",
   "execution_count": null,
   "metadata": {},
   "outputs": [],
   "source": [
    "# Your code/answer goes here"
   ]
  },
  {
   "cell_type": "markdown",
   "metadata": {},
   "source": [
    "What happens if the agent does not know the layout of the maze in advance (i.e., faces an unkown, only partially observable environment)? How does the environment look then (PEAS description)? How would you implement a rational agent to solve the maze? What if the agent still has a GPS device to tell the distance to the goal?"
   ]
  },
  {
   "cell_type": "code",
   "execution_count": null,
   "metadata": {},
   "outputs": [],
   "source": [
    "# Your code/answer goes here"
   ]
  }
 ],
 "metadata": {
  "kernelspec": {
   "display_name": "Python 3",
   "language": "python",
   "name": "python3"
  },
  "language_info": {
   "codemirror_mode": {
    "name": "ipython",
    "version": 3
   },
   "file_extension": ".py",
   "mimetype": "text/x-python",
   "name": "python",
   "nbconvert_exporter": "python",
   "pygments_lexer": "ipython3",
   "version": "3.8.8"
  }
 },
 "nbformat": 4,
 "nbformat_minor": 4
}
